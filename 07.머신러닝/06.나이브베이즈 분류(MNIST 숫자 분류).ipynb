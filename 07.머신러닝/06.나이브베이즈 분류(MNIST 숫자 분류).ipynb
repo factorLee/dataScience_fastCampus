{
 "cells": [
  {
   "cell_type": "markdown",
   "id": "1122a6c5",
   "metadata": {},
   "source": [
    "# MNIST 숫자 분류"
   ]
  },
  {
   "cell_type": "code",
   "execution_count": 22,
   "id": "8eb76c03",
   "metadata": {},
   "outputs": [],
   "source": [
    "%matplotlib inline"
   ]
  },
  {
   "cell_type": "code",
   "execution_count": 2,
   "id": "b60a68ea",
   "metadata": {},
   "outputs": [],
   "source": [
    "from sklearn.datasets import load_digits\n",
    "digits = load_digits()"
   ]
  },
  {
   "cell_type": "code",
   "execution_count": 30,
   "id": "9986a12d",
   "metadata": {},
   "outputs": [],
   "source": [
    "X = digits.data\n",
    "y = digits.target"
   ]
  },
  {
   "cell_type": "code",
   "execution_count": 8,
   "id": "e838dd85",
   "metadata": {},
   "outputs": [
    {
     "data": {
      "text/plain": [
       "(1797, 64)"
      ]
     },
     "execution_count": 8,
     "metadata": {},
     "output_type": "execute_result"
    }
   ],
   "source": [
    "X.shape # 1794 : 이미지의 개수"
   ]
  },
  {
   "cell_type": "code",
   "execution_count": 9,
   "id": "a7ceb027",
   "metadata": {},
   "outputs": [
    {
     "data": {
      "text/plain": [
       "array([ 0.,  0.,  5., 13.,  9.,  1.,  0.,  0.,  0.,  0., 13., 15., 10.,\n",
       "       15.,  5.,  0.,  0.,  3., 15.,  2.,  0., 11.,  8.,  0.,  0.,  4.,\n",
       "       12.,  0.,  0.,  8.,  8.,  0.,  0.,  5.,  8.,  0.,  0.,  9.,  8.,\n",
       "        0.,  0.,  4., 11.,  0.,  1., 12.,  7.,  0.,  0.,  2., 14.,  5.,\n",
       "       10., 12.,  0.,  0.,  0.,  0.,  6., 13., 10.,  0.,  0.,  0.])"
      ]
     },
     "execution_count": 9,
     "metadata": {},
     "output_type": "execute_result"
    }
   ],
   "source": [
    "X[0, :] # 첫번째 이미지"
   ]
  },
  {
   "cell_type": "code",
   "execution_count": 10,
   "id": "9e718169",
   "metadata": {},
   "outputs": [
    {
     "data": {
      "text/plain": [
       "array([[ 0.,  0.,  5., 13.,  9.,  1.,  0.,  0.],\n",
       "       [ 0.,  0., 13., 15., 10., 15.,  5.,  0.],\n",
       "       [ 0.,  3., 15.,  2.,  0., 11.,  8.,  0.],\n",
       "       [ 0.,  4., 12.,  0.,  0.,  8.,  8.,  0.],\n",
       "       [ 0.,  5.,  8.,  0.,  0.,  9.,  8.,  0.],\n",
       "       [ 0.,  4., 11.,  0.,  1., 12.,  7.,  0.],\n",
       "       [ 0.,  2., 14.,  5., 10., 12.,  0.,  0.],\n",
       "       [ 0.,  0.,  6., 13., 10.,  0.,  0.,  0.]])"
      ]
     },
     "execution_count": 10,
     "metadata": {},
     "output_type": "execute_result"
    }
   ],
   "source": [
    "digits.images[0, :, :] # 원래 2차원 배열임"
   ]
  },
  {
   "cell_type": "code",
   "execution_count": 18,
   "id": "cc5077b4",
   "metadata": {},
   "outputs": [
    {
     "data": {
      "text/plain": [
       "array([[0., 0., 0., ..., 0., 0., 0.],\n",
       "       [0., 0., 0., ..., 1., 0., 0.],\n",
       "       [0., 0., 0., ..., 1., 1., 0.],\n",
       "       ...,\n",
       "       [0., 0., 0., ..., 0., 0., 0.],\n",
       "       [0., 0., 0., ..., 1., 0., 0.],\n",
       "       [0., 0., 1., ..., 1., 0., 0.]])"
      ]
     },
     "execution_count": 18,
     "metadata": {},
     "output_type": "execute_result"
    }
   ],
   "source": [
    "from sklearn.preprocessing import Binarizer\n",
    "X = Binarizer(7).fit_transform(X) # 7 보다 작으면 0, 7 보다 크면 1로 바꿔줌 (threshold)\n",
    "X"
   ]
  },
  {
   "cell_type": "code",
   "execution_count": 19,
   "id": "a49af156",
   "metadata": {},
   "outputs": [
    {
     "data": {
      "text/plain": [
       "array([0., 0., 0., 1., 1., 0., 0., 0., 0., 0., 1., 1., 1., 1., 0., 0., 0.,\n",
       "       0., 1., 0., 0., 1., 1., 0., 0., 0., 1., 0., 0., 1., 1., 0., 0., 0.,\n",
       "       1., 0., 0., 1., 1., 0., 0., 0., 1., 0., 0., 1., 0., 0., 0., 0., 1.,\n",
       "       0., 1., 1., 0., 0., 0., 0., 0., 1., 1., 0., 0., 0.])"
      ]
     },
     "execution_count": 19,
     "metadata": {},
     "output_type": "execute_result"
    }
   ],
   "source": [
    "X[0, :]"
   ]
  },
  {
   "cell_type": "code",
   "execution_count": 23,
   "id": "11cc0660",
   "metadata": {},
   "outputs": [
    {
     "data": {
      "text/plain": [
       "(-0.5, 7.5, 7.5, -0.5)"
      ]
     },
     "execution_count": 23,
     "metadata": {},
     "output_type": "execute_result"
    },
    {
     "data": {
      "image/png": "[encoded data removed]",
      "text/plain": [
       "<Figure size 432x288 with 1 Axes>"
      ]
     },
     "metadata": {
      "image/png": {
       "height": 231,
       "width": 231
      },
      "needs_background": "light"
     },
     "output_type": "display_data"
    }
   ],
   "source": [
    "plt.imshow(digits.images[0, :, :], cmap=plt.cm.binary)\n",
    "plt.axis('off')"
   ]
  },
  {
   "cell_type": "code",
   "execution_count": 27,
   "id": "fa05d6d2",
   "metadata": {},
   "outputs": [
    {
     "data": {
      "image/png": "[encoded data removed]",
      "text/plain": [
       "<Figure size 432x288 with 1 Axes>"
      ]
     },
     "metadata": {
      "image/png": {
       "height": 251,
       "width": 247
      },
      "needs_background": "light"
     },
     "output_type": "display_data"
    }
   ],
   "source": [
    "plt.imshow(X[0, :].reshape((8, 8)), cmap=plt.cm.binary)\n",
    "plt.show()"
   ]
  },
  {
   "cell_type": "code",
   "execution_count": 32,
   "id": "9a1f8bbe",
   "metadata": {},
   "outputs": [
    {
     "data": {
      "text/plain": [
       "array([0, 1, 2, ..., 8, 9, 8])"
      ]
     },
     "execution_count": 32,
     "metadata": {},
     "output_type": "execute_result"
    }
   ],
   "source": [
    "y"
   ]
  },
  {
   "cell_type": "code",
   "execution_count": 34,
   "id": "e1b382f9",
   "metadata": {},
   "outputs": [
    {
     "name": "stdout",
     "output_type": "stream",
     "text": [
      "              precision    recall  f1-score   support\n",
      "\n",
      "           0       0.98      0.98      0.98       178\n",
      "           1       0.76      0.62      0.68       182\n",
      "           2       0.86      0.86      0.86       177\n",
      "           3       0.91      0.86      0.88       183\n",
      "           4       0.91      0.95      0.93       181\n",
      "           5       0.93      0.82      0.87       182\n",
      "           6       0.97      0.94      0.96       181\n",
      "           7       0.88      0.98      0.93       179\n",
      "           8       0.70      0.82      0.75       174\n",
      "           9       0.76      0.81      0.78       180\n",
      "\n",
      "    accuracy                           0.86      1797\n",
      "   macro avg       0.87      0.86      0.86      1797\n",
      "weighted avg       0.87      0.86      0.86      1797\n",
      "\n"
     ]
    }
   ],
   "source": [
    "from sklearn.naive_bayes import BernoulliNB\n",
    "\n",
    "model = BernoulliNB().fit(X, y)\n",
    "y_pred = model.predict(X)\n",
    "\n",
    "from sklearn.metrics import classification_report\n",
    "\n",
    "print(classification_report(y, y_pred))"
   ]
  },
  {
   "cell_type": "code",
   "execution_count": 41,
   "id": "d543dd03",
   "metadata": {},
   "outputs": [
    {
     "name": "stdout",
     "output_type": "stream",
     "text": [
      "              precision    recall  f1-score   support\n",
      "\n",
      "           0       0.98      0.98      0.98       178\n",
      "           1       0.76      0.62      0.68       182\n",
      "           2       0.86      0.86      0.86       177\n",
      "           3       0.91      0.86      0.88       183\n",
      "           4       0.91      0.95      0.93       181\n",
      "           5       0.93      0.82      0.87       182\n",
      "           6       0.97      0.94      0.96       181\n",
      "           7       0.88      0.98      0.93       179\n",
      "           8       0.70      0.82      0.75       174\n",
      "           9       0.76      0.81      0.78       180\n",
      "\n",
      "    accuracy                           0.86      1797\n",
      "   macro avg       0.87      0.86      0.86      1797\n",
      "weighted avg       0.87      0.86      0.86      1797\n",
      "\n"
     ]
    }
   ],
   "source": [
    "# binarize 인수만 사용\n",
    "\n",
    "from sklearn.datasets import load_digits\n",
    "digits = load_digits()\n",
    "X3 = digits.data\n",
    "y3 = digits.target\n",
    "\n",
    "from sklearn.naive_bayes import BernoulliNB\n",
    "\n",
    "model = BernoulliNB(binarize=7).fit(X3, y3)\n",
    "y3_pred = model.predict(X3)\n",
    "\n",
    "from sklearn.metrics import classification_report\n",
    "\n",
    "print(classification_report(y, y_pred))"
   ]
  },
  {
   "cell_type": "code",
   "execution_count": 35,
   "id": "4cfe6d4b",
   "metadata": {},
   "outputs": [
    {
     "name": "stdout",
     "output_type": "stream",
     "text": [
      "              precision    recall  f1-score   support\n",
      "\n",
      "           0       0.99      0.97      0.98       178\n",
      "           1       0.80      0.80      0.80       182\n",
      "           2       0.91      0.90      0.91       177\n",
      "           3       0.93      0.85      0.89       183\n",
      "           4       0.96      0.94      0.95       181\n",
      "           5       0.92      0.88      0.90       182\n",
      "           6       0.97      0.96      0.97       181\n",
      "           7       0.91      0.99      0.95       179\n",
      "           8       0.80      0.82      0.81       174\n",
      "           9       0.80      0.87      0.83       180\n",
      "\n",
      "    accuracy                           0.90      1797\n",
      "   macro avg       0.90      0.90      0.90      1797\n",
      "weighted avg       0.90      0.90      0.90      1797\n",
      "\n"
     ]
    }
   ],
   "source": [
    "X2 = digits.data\n",
    "y2 = digits.target\n",
    "\n",
    "model = BernoulliNB(binarize=7).fit(X2, y2)\n",
    "y2_pred = model.predict(X2)\n",
    "\n",
    "from sklearn.metrics import classification_report\n",
    "\n",
    "print(classification_report(y2, y2_pred))"
   ]
  },
  {
   "cell_type": "code",
   "execution_count": 42,
   "id": "4c39b700",
   "metadata": {},
   "outputs": [
    {
     "data": {
      "text/plain": [
       "array([[0.00555556, 0.00555556, 0.15      , 0.97777778, 0.86111111,\n",
       "        0.11666667, 0.00555556, 0.00555556, 0.00555556, 0.01666667,\n",
       "        0.90555556, 0.93333333, 0.82222222, 0.83888889, 0.02777778,\n",
       "        0.00555556, 0.00555556, 0.1       , 0.97222222, 0.32777778,\n",
       "        0.08888889, 0.92222222, 0.11111111, 0.00555556, 0.00555556,\n",
       "        0.23333333, 0.93333333, 0.09444444, 0.00555556, 0.67222222,\n",
       "        0.43888889, 0.00555556, 0.00555556, 0.31111111, 0.91111111,\n",
       "        0.03333333, 0.00555556, 0.61666667, 0.61666667, 0.00555556,\n",
       "        0.00555556, 0.05555556, 0.97222222, 0.07777778, 0.06111111,\n",
       "        0.84444444, 0.36111111, 0.00555556, 0.00555556, 0.00555556,\n",
       "        0.94444444, 0.71666667, 0.72777778, 0.92222222, 0.09444444,\n",
       "        0.00555556, 0.00555556, 0.00555556, 0.13333333, 0.98888889,\n",
       "        0.94444444, 0.3       , 0.00555556, 0.00555556],\n",
       "       [0.00543478, 0.00543478, 0.10326087, 0.6576087 , 0.76630435,\n",
       "        0.42391304, 0.02173913, 0.00543478, 0.00543478, 0.00543478,\n",
       "        0.22826087, 0.82065217, 0.88043478, 0.5326087 , 0.07065217,\n",
       "        0.00543478, 0.00543478, 0.05978261, 0.45652174, 0.98369565,\n",
       "        0.88586957, 0.5       , 0.02717391, 0.00543478, 0.00543478,\n",
       "        0.09782609, 0.625     , 0.92391304, 0.92391304, 0.38043478,\n",
       "        0.01630435, 0.00543478, 0.00543478, 0.0326087 , 0.44021739,\n",
       "        0.75543478, 0.94021739, 0.33152174, 0.01630435, 0.00543478,\n",
       "        0.00543478, 0.00543478, 0.34782609, 0.67391304, 0.90217391,\n",
       "        0.38586957, 0.00543478, 0.00543478, 0.00543478, 0.00543478,\n",
       "        0.30978261, 0.73369565, 0.92934783, 0.49456522, 0.13043478,\n",
       "        0.0326087 , 0.00543478, 0.00543478, 0.08152174, 0.63586957,\n",
       "        0.93478261, 0.55978261, 0.16847826, 0.11413043],\n",
       "       [0.00558659, 0.00558659, 0.67039106, 0.94972067, 0.6424581 ,\n",
       "        0.13407821, 0.00558659, 0.00558659, 0.00558659, 0.32960894,\n",
       "        0.92178771, 0.90502793, 0.86592179, 0.33519553, 0.02234637,\n",
       "        0.00558659, 0.00558659, 0.31843575, 0.57541899, 0.24581006,\n",
       "        0.81005587, 0.38547486, 0.02234637, 0.00558659, 0.00558659,\n",
       "        0.03910615, 0.0726257 , 0.27374302, 0.84357542, 0.29608939,\n",
       "        0.01117318, 0.00558659, 0.00558659, 0.00558659, 0.06145251,\n",
       "        0.60893855, 0.72067039, 0.12290503, 0.00558659, 0.00558659,\n",
       "        0.00558659, 0.02234637, 0.31843575, 0.82122905, 0.48044693,\n",
       "        0.08938547, 0.03351955, 0.00558659, 0.00558659, 0.05027933,\n",
       "        0.79329609, 0.96089385, 0.88268156, 0.77094972, 0.43575419,\n",
       "        0.01117318, 0.00558659, 0.01117318, 0.69273743, 0.93854749,\n",
       "        0.96089385, 0.82681564, 0.50837989, 0.10055866],\n",
       "       [0.00540541, 0.00540541, 0.6       , 0.96756757, 0.97297297,\n",
       "        0.50810811, 0.03243243, 0.00540541, 0.00540541, 0.2       ,\n",
       "        0.89189189, 0.64864865, 0.80540541, 0.8       , 0.12432432,\n",
       "        0.00540541, 0.00540541, 0.10810811, 0.22162162, 0.12972973,\n",
       "        0.84324324, 0.65945946, 0.02162162, 0.00540541, 0.00540541,\n",
       "        0.01621622, 0.05405405, 0.61081081, 0.95675676, 0.3027027 ,\n",
       "        0.00540541, 0.00540541, 0.00540541, 0.00540541, 0.07027027,\n",
       "        0.31891892, 0.85945946, 0.76216216, 0.0972973 , 0.00540541,\n",
       "        0.00540541, 0.01621622, 0.07027027, 0.05405405, 0.26486486,\n",
       "        0.86486486, 0.42702703, 0.00540541, 0.00540541, 0.02702703,\n",
       "        0.43243243, 0.36216216, 0.55135135, 0.89189189, 0.34594595,\n",
       "        0.00540541, 0.00540541, 0.00540541, 0.62702703, 0.98378378,\n",
       "        0.94054054, 0.63243243, 0.05405405, 0.01081081],\n",
       "       [0.00546448, 0.00546448, 0.01639344, 0.45901639, 0.82513661,\n",
       "        0.08196721, 0.01639344, 0.01639344, 0.00546448, 0.00546448,\n",
       "        0.17486339, 0.93442623, 0.55191257, 0.08196721, 0.07650273,\n",
       "        0.02185792, 0.00546448, 0.0273224 , 0.7431694 , 0.81420765,\n",
       "        0.28415301, 0.33333333, 0.21311475, 0.01092896, 0.00546448,\n",
       "        0.17486339, 0.96174863, 0.38251366, 0.46994536, 0.72677596,\n",
       "        0.46448087, 0.00546448, 0.00546448, 0.63387978, 0.96721311,\n",
       "        0.69398907, 0.89071038, 0.92349727, 0.34972678, 0.00546448,\n",
       "        0.00546448, 0.43169399, 0.73770492, 0.86338798, 0.96721311,\n",
       "        0.74863388, 0.02185792, 0.00546448, 0.01092896, 0.03825137,\n",
       "        0.18032787, 0.53551913, 0.92896175, 0.26229508, 0.00546448,\n",
       "        0.00546448, 0.00546448, 0.00546448, 0.01639344, 0.52459016,\n",
       "        0.83060109, 0.08743169, 0.00546448, 0.00546448],\n",
       "       [0.00543478, 0.01630435, 0.7173913 , 0.97826087, 0.97282609,\n",
       "        0.84782609, 0.23369565, 0.00543478, 0.00543478, 0.19565217,\n",
       "        0.98369565, 0.86956522, 0.5923913 , 0.39130435, 0.07608696,\n",
       "        0.00543478, 0.00543478, 0.31521739, 0.97826087, 0.3423913 ,\n",
       "        0.09782609, 0.03804348, 0.00543478, 0.00543478, 0.00543478,\n",
       "        0.33695652, 0.95108696, 0.85869565, 0.61413043, 0.26086957,\n",
       "        0.01086957, 0.00543478, 0.00543478, 0.05978261, 0.50543478,\n",
       "        0.5326087 , 0.61413043, 0.56521739, 0.0923913 , 0.00543478,\n",
       "        0.00543478, 0.00543478, 0.07065217, 0.25543478, 0.51086957,\n",
       "        0.5923913 , 0.14130435, 0.00543478, 0.00543478, 0.02173913,\n",
       "        0.33152174, 0.55434783, 0.74456522, 0.51630435, 0.0923913 ,\n",
       "        0.00543478, 0.00543478, 0.01630435, 0.76630435, 0.97826087,\n",
       "        0.64130435, 0.125     , 0.01086957, 0.00543478],\n",
       "       [0.00546448, 0.00546448, 0.01639344, 0.85245902, 0.6557377 ,\n",
       "        0.06557377, 0.00546448, 0.00546448, 0.00546448, 0.00546448,\n",
       "        0.47540984, 0.98360656, 0.42622951, 0.0273224 , 0.00546448,\n",
       "        0.00546448, 0.00546448, 0.00546448, 0.84699454, 0.63934426,\n",
       "        0.03278689, 0.01092896, 0.00546448, 0.00546448, 0.00546448,\n",
       "        0.03278689, 0.93989071, 0.53551913, 0.24590164, 0.10382514,\n",
       "        0.00546448, 0.00546448, 0.00546448, 0.12568306, 0.97814208,\n",
       "        0.87431694, 0.85245902, 0.73224044, 0.10382514, 0.00546448,\n",
       "        0.00546448, 0.01092896, 0.98907104, 0.72677596, 0.33879781,\n",
       "        0.72131148, 0.70491803, 0.00546448, 0.00546448, 0.00546448,\n",
       "        0.81967213, 0.94535519, 0.2568306 , 0.80327869, 0.77595628,\n",
       "        0.01092896, 0.00546448, 0.00546448, 0.00546448, 0.86338798,\n",
       "        0.99453552, 0.94535519, 0.24043716, 0.00546448],\n",
       "       [0.00552486, 0.00552486, 0.25414365, 0.93922652, 0.9558011 ,\n",
       "        0.74033149, 0.29834254, 0.06077348, 0.00552486, 0.0441989 ,\n",
       "        0.74585635, 0.87292818, 0.83425414, 0.85635359, 0.3480663 ,\n",
       "        0.02762431, 0.00552486, 0.02209945, 0.3038674 , 0.10497238,\n",
       "        0.47513812, 0.78453039, 0.16574586, 0.00552486, 0.00552486,\n",
       "        0.01104972, 0.2320442 , 0.40883978, 0.85082873, 0.85635359,\n",
       "        0.3480663 , 0.00552486, 0.00552486, 0.06629834, 0.59116022,\n",
       "        0.89502762, 0.9558011 , 0.77348066, 0.2320442 , 0.00552486,\n",
       "        0.00552486, 0.05524862, 0.33701657, 0.80662983, 0.75138122,\n",
       "        0.24309392, 0.00552486, 0.00552486, 0.00552486, 0.00552486,\n",
       "        0.14917127, 0.87845304, 0.37016575, 0.00552486, 0.00552486,\n",
       "        0.00552486, 0.00552486, 0.01104972, 0.38121547, 0.8121547 ,\n",
       "        0.07734807, 0.00552486, 0.00552486, 0.00552486],\n",
       "       [0.00568182, 0.00568182, 0.24431818, 0.88068182, 0.89772727,\n",
       "        0.39204545, 0.00568182, 0.00568182, 0.00568182, 0.04545455,\n",
       "        0.84659091, 0.81818182, 0.65340909, 0.83522727, 0.13636364,\n",
       "        0.00568182, 0.00568182, 0.14204545, 0.8125    , 0.49431818,\n",
       "        0.53977273, 0.85227273, 0.04545455, 0.00568182, 0.00568182,\n",
       "        0.02840909, 0.57386364, 0.93181818, 0.89772727, 0.44886364,\n",
       "        0.01136364, 0.00568182, 0.00568182, 0.02272727, 0.42045455,\n",
       "        0.94318182, 0.88636364, 0.25568182, 0.00568182, 0.00568182,\n",
       "        0.00568182, 0.02840909, 0.76704545, 0.59090909, 0.65909091,\n",
       "        0.59090909, 0.02272727, 0.00568182, 0.00568182, 0.01136364,\n",
       "        0.82386364, 0.5625    , 0.54545455, 0.65909091, 0.14772727,\n",
       "        0.00568182, 0.00568182, 0.00568182, 0.26136364, 0.91477273,\n",
       "        0.91477273, 0.42613636, 0.0625    , 0.00568182],\n",
       "       [0.00549451, 0.00549451, 0.34615385, 0.86263736, 0.82417582,\n",
       "        0.36263736, 0.10989011, 0.01098901, 0.00549451, 0.06593407,\n",
       "        0.87912088, 0.65934066, 0.72527473, 0.81318681, 0.15384615,\n",
       "        0.01098901, 0.00549451, 0.19230769, 0.86263736, 0.36813187,\n",
       "        0.55494505, 0.96153846, 0.14285714, 0.00549451, 0.00549451,\n",
       "        0.03846154, 0.68681319, 0.87362637, 0.92307692, 0.93406593,\n",
       "        0.17032967, 0.00549451, 0.00549451, 0.00549451, 0.14835165,\n",
       "        0.34065934, 0.32417582, 0.87362637, 0.34065934, 0.00549451,\n",
       "        0.00549451, 0.01648352, 0.01648352, 0.02747253, 0.13186813,\n",
       "        0.68681319, 0.42307692, 0.00549451, 0.00549451, 0.02197802,\n",
       "        0.40659341, 0.26923077, 0.36813187, 0.75824176, 0.31318681,\n",
       "        0.00549451, 0.00549451, 0.00549451, 0.32417582, 0.87362637,\n",
       "        0.8956044 , 0.6043956 , 0.10989011, 0.00549451]])"
      ]
     },
     "execution_count": 42,
     "metadata": {},
     "output_type": "execute_result"
    }
   ],
   "source": [
    "np.exp(model.feature_log_prob_)"
   ]
  },
  {
   "cell_type": "code",
   "execution_count": 36,
   "id": "32acd494",
   "metadata": {},
   "outputs": [
    {
     "data": {
      "image/png": "[encoded data removed]",
      "text/plain": [
       "<Figure size 432x288 with 1 Axes>"
      ]
     },
     "metadata": {
      "image/png": {
       "height": 251,
       "width": 247
      },
      "needs_background": "light"
     },
     "output_type": "display_data"
    }
   ],
   "source": [
    "plt.imshow(np.exp(model.feature_log_prob_)[2].reshape((8, 8)), cmap=plt.cm.binary)\n",
    "plt.grid(False)\n",
    "plt.show() "
   ]
  },
  {
   "cell_type": "markdown",
   "id": "f8e0e7ee",
   "metadata": {},
   "source": [
    "## MultinomialNB"
   ]
  },
  {
   "cell_type": "code",
   "execution_count": 48,
   "id": "3fcaf699",
   "metadata": {},
   "outputs": [
    {
     "name": "stdout",
     "output_type": "stream",
     "text": [
      "              precision    recall  f1-score   support\n",
      "\n",
      "           0       0.99      0.98      0.99       178\n",
      "           1       0.87      0.75      0.81       182\n",
      "           2       0.90      0.90      0.90       177\n",
      "           3       0.99      0.87      0.93       183\n",
      "           4       0.96      0.96      0.96       181\n",
      "           5       0.97      0.86      0.91       182\n",
      "           6       0.98      0.97      0.98       181\n",
      "           7       0.89      0.99      0.94       179\n",
      "           8       0.78      0.89      0.83       174\n",
      "           9       0.76      0.88      0.82       180\n",
      "\n",
      "    accuracy                           0.91      1797\n",
      "   macro avg       0.91      0.91      0.91      1797\n",
      "weighted avg       0.91      0.91      0.91      1797\n",
      "\n"
     ]
    }
   ],
   "source": [
    "from sklearn.naive_bayes import BernoulliNB, MultinomialNB\n",
    "model2 = MultinomialNB().fit(X,y)\n",
    "y2_pred = model2.predict(X)\n",
    "\n",
    "print(classification_report(y, y2_pred))"
   ]
  },
  {
   "cell_type": "code",
   "execution_count": null,
   "id": "af5cdae9",
   "metadata": {},
   "outputs": [],
   "source": []
  }
 ],
 "metadata": {
  "kernelspec": {
   "display_name": "Python 3",
   "language": "python",
   "name": "python3"
  },
  "language_info": {
   "codemirror_mode": {
    "name": "ipython",
    "version": 3
   },
   "file_extension": ".py",
   "mimetype": "text/x-python",
   "name": "python",
   "nbconvert_exporter": "python",
   "pygments_lexer": "ipython3",
   "version": "3.8.2"
  }
 },
 "nbformat": 4,
 "nbformat_minor": 5
}
