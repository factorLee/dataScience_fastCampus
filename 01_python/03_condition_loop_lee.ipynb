{
 "cells": [
  {
   "cell_type": "markdown",
   "metadata": {},
   "source": [
    "### 1. 조건문\n",
    "- 특정 조건에 따라서 코드를 실행하고자 할때 사용\n",
    "- if, else, elif"
   ]
  },
  {
   "cell_type": "code",
   "execution_count": null,
   "metadata": {},
   "outputs": [],
   "source": [
    "# 조건부분: bool 데이터 타입 이외의 데이터 타입이 오면 bool으로 형변환 되어 판단\n",
    "\n",
    "if False:\n",
    "    print(\"python\")\n",
    "    \n",
    "print(\"done\")"
   ]
  },
  {
   "cell_type": "code",
   "execution_count": null,
   "metadata": {},
   "outputs": [],
   "source": [
    "# int: 0을 제외한 나머지 값은 True로 인식\n",
    "bool(0), bool(1), bool(-1), bool(100)"
   ]
  },
  {
   "cell_type": "code",
   "execution_count": null,
   "metadata": {},
   "outputs": [],
   "source": [
    "num=0\n",
    "if num:\n",
    "    print(\"python1\")\n",
    "\n",
    "num=1\n",
    "if num:\n",
    "    print(\"python2\")\n",
    "        \n",
    "print(\"done\")"
   ]
  },
  {
   "cell_type": "code",
   "execution_count": null,
   "metadata": {},
   "outputs": [],
   "source": [
    "number = 7\n",
    "\n",
    "if number%2 == 1:\n",
    "    print(\"홀수\")\n"
   ]
  },
  {
   "cell_type": "code",
   "execution_count": null,
   "metadata": {},
   "outputs": [],
   "source": [
    "# float: 0.0을 제외한 나머지 실수는 True\n",
    "# str: \"\"를 제외한 나머지 문자열은 True\n",
    "# list, tuple, dict: [], (), {}를 제외한 나머지는 True"
   ]
  },
  {
   "cell_type": "code",
   "execution_count": null,
   "metadata": {},
   "outputs": [],
   "source": [
    "# 지갑에 돈이 10000원 이상 있으면 택시를 타고, 그렇지 않으면 걸어서 집에 갑니다.\n",
    "\n",
    "wallet = 9000\n",
    "if wallet >= 10000:\n",
    "    print(\"택시를 타고 집에 갑니다.\")\n",
    "else:\n",
    "    print(\"걸어서 집에 갑니다.\")"
   ]
  },
  {
   "cell_type": "code",
   "execution_count": null,
   "metadata": {},
   "outputs": [],
   "source": [
    "# 지갑에 돈이 10000원 이상 있으면 택시를 타고\n",
    "# 2000원 이상, 10000원 미만 있으면 버스를 탐\n",
    "# 그렇지 않으면 걸어서 집에 갑니다.\n",
    "\n",
    "if wallet >= 10000:\n",
    "    print(\"택시를 탑니다.\")\n",
    "elif wallet >= 2000 and wallet < 10000:\n",
    "    print(\"버스를 탑니다.\")\n",
    "else:\n",
    "    print(\"걸어 갑니다\")"
   ]
  },
  {
   "cell_type": "code",
   "execution_count": null,
   "metadata": {},
   "outputs": [],
   "source": [
    "# 계좌에 10000원이 들어 있습니다.\n",
    "# 인출 금액을 입력 받습니다.\n",
    "# 인출 금액이 계좌에 있는 금액보다 크면 \"인출이 불가능 합니다.\" 출력\n",
    "# 인출 금액이 계좌에 있는 금액보다 작으면 \"인출 되었습니다.\" 출력\n",
    "# 마지막에 현재 계좌의 잔액을 출력"
   ]
  },
  {
   "cell_type": "code",
   "execution_count": 5,
   "metadata": {},
   "outputs": [
    {
     "name": "stdout",
     "output_type": "stream",
     "text": [
      "인출 금액을 입력하세요:1000\n",
      "인출 되었습니다.\n"
     ]
    }
   ],
   "source": [
    "account = 10000\n",
    "out = int(input(\"인출 금액을 입력하세요:\"))\n",
    "\n",
    "if account < out:\n",
    "    print(\"인출이 불가능 합니다.\")\n",
    "else:\n",
    "    print(\"인출 되었습니다.\")\n",
    "    account -= out\n",
    "    "
   ]
  },
  {
   "cell_type": "code",
   "execution_count": 7,
   "metadata": {},
   "outputs": [
    {
     "name": "stdout",
     "output_type": "stream",
     "text": [
      "insert draw money::12000\n",
      "인출이 불가능 합니다.2000원의 잔액이 부족합니다.\n",
      "현재 잔액은10000원 입니다.\n"
     ]
    }
   ],
   "source": [
    "draw_money = int(input(\"insert draw money::\"))\n",
    "acc = 10000\n",
    "if acc >= draw_money:\n",
    "    acc -= draw_money\n",
    "    print(str(draw_money)+ \"원이 인출 되었습니다.\")\n",
    "else:\n",
    "    print(\"인출이 불가능 합니다.\"+str(draw_money - acc)+\"원의 잔액이 부족합니다.\")\n",
    "print(\"현재 잔액은\"+ str(acc)+\"원 입니다.\")"
   ]
  },
  {
   "cell_type": "markdown",
   "metadata": {},
   "source": [
    "### 삼항연산자\n",
    "- 간단한 if, else 구문을 한줄의 코드로 표현할 수 있는 방법\n",
    "- (True) if(condition) else(False) "
   ]
  },
  {
   "cell_type": "code",
   "execution_count": 10,
   "metadata": {},
   "outputs": [
    {
     "name": "stdout",
     "output_type": "stream",
     "text": [
      "not Zero\n"
     ]
    }
   ],
   "source": [
    "#data 변수에 0 이면 \"zero\"출력, 아니면 \"not zero\" 출력\n",
    "data = 1\n",
    "if data:\n",
    "    print(\"not Zero\")\n",
    "else:\n",
    "    print(\"Zero\")"
   ]
  },
  {
   "cell_type": "code",
   "execution_count": 12,
   "metadata": {},
   "outputs": [
    {
     "data": {
      "text/plain": [
       "'not Zero'"
      ]
     },
     "execution_count": 12,
     "metadata": {},
     "output_type": "execute_result"
    }
   ],
   "source": [
    "data = 1 \n",
    "result = \"not Zero\" if data else \"Zero\"\n",
    "result"
   ]
  },
  {
   "cell_type": "markdown",
   "metadata": {},
   "source": [
    "### 2. 반복문\n",
    "- 반복되는 코드를 실행할때 사용\n",
    "- while, for, break, continue\n",
    "- list comprehention"
   ]
  },
  {
   "cell_type": "code",
   "execution_count": 13,
   "metadata": {},
   "outputs": [
    {
     "name": "stdout",
     "output_type": "stream",
     "text": [
      "3\n",
      "2\n",
      "1\n"
     ]
    }
   ],
   "source": [
    "# while\n",
    "data = 3\n",
    "\n",
    "while data: #조건이 False가 될때까지 구문의 코드를 실행\n",
    "    #반복되는 코드 작성\n",
    "    print(data)\n",
    "    data -= 1\n",
    "    "
   ]
  },
  {
   "cell_type": "code",
   "execution_count": 14,
   "metadata": {},
   "outputs": [],
   "source": [
    "# 학생이 국어: 80점, 영어:90점, 수학: 100점을 while 문을 이용하여 총점과 평균을 출력\n",
    "# 학생의 점수는 list, dict 표현"
   ]
  },
  {
   "cell_type": "code",
   "execution_count": 20,
   "metadata": {},
   "outputs": [
    {
     "data": {
      "text/plain": [
       "int"
      ]
     },
     "execution_count": 20,
     "metadata": {},
     "output_type": "execute_result"
    }
   ],
   "source": [
    "classs = [\"국어\", \"영어\", \"수학\"]\n",
    "grad = [80, 90, 100]\n",
    "type(len(grad))"
   ]
  },
  {
   "cell_type": "code",
   "execution_count": 30,
   "metadata": {},
   "outputs": [],
   "source": [
    "total, avg = 0,0"
   ]
  },
  {
   "cell_type": "code",
   "execution_count": 31,
   "metadata": {},
   "outputs": [],
   "source": [
    "subjects_ls = [\"국어\", \"영어\", \"수학\"]\n",
    "points_ls = [80, 90, 100]\n",
    "points_dict = {\"국어\": 80, \"영어\": 90, \"수학\": 100}"
   ]
  },
  {
   "cell_type": "code",
   "execution_count": 32,
   "metadata": {},
   "outputs": [],
   "source": [
    "datas = points_ls.copy() # 깊은복사: 원본데이터를 보존"
   ]
  },
  {
   "cell_type": "code",
   "execution_count": 36,
   "metadata": {},
   "outputs": [
    {
     "data": {
      "text/plain": [
       "(270, 90.0)"
      ]
     },
     "execution_count": 36,
     "metadata": {},
     "output_type": "execute_result"
    }
   ],
   "source": [
    "while datas:\n",
    "    total += datas.pop()\n",
    "avg = total/len(points_ls)\n",
    "\n",
    "total, avg"
   ]
  },
  {
   "cell_type": "code",
   "execution_count": 39,
   "metadata": {},
   "outputs": [
    {
     "name": "stdout",
     "output_type": "stream",
     "text": [
      "10\n"
     ]
    }
   ],
   "source": [
    "# 무한루프 \n",
    "# break: 반복문을 중단 시킬때 사용되는 예약어\n",
    "result = 1\n",
    "while result:\n",
    "    \n",
    "    if result >= 10:\n",
    "        break\n",
    "    result += 1\n",
    "print(result)"
   ]
  },
  {
   "cell_type": "markdown",
   "metadata": {},
   "source": [
    "### for\n",
    "- iterable한 값을 하나씩 꺼내서 value에 대입시킨후 코드를 iterable변수의 값 갯수만큼 실행\n",
    "\n",
    "    '''\n",
    "    for <variable> in <iterables>:\n",
    "        <code>\n",
    "    '''"
   ]
  },
  {
   "cell_type": "code",
   "execution_count": 46,
   "metadata": {},
   "outputs": [
    {
     "name": "stdout",
     "output_type": "stream",
     "text": [
      "0 2 4 "
     ]
    }
   ],
   "source": [
    "# for: continue: 조건 부분으로 올라가서 코드가 실행 된다.\n",
    "ls = [0,1,2,3,4] \n",
    "for data in ls:\n",
    "    if data%2: # 데이터가 홀수가 되면 continue를 실행\n",
    "        continue\n",
    "    #data가 짝수이면 print실행\n",
    "    print(data, end=\" \")"
   ]
  },
  {
   "cell_type": "code",
   "execution_count": 48,
   "metadata": {},
   "outputs": [
    {
     "data": {
      "text/plain": [
       "4950"
      ]
     },
     "execution_count": 48,
     "metadata": {},
     "output_type": "execute_result"
    }
   ],
   "source": [
    "# for 이용해서 코드를 100번 실행\n",
    "# range 함수\n",
    "list(range(100))\n",
    "result = 0\n",
    "for data in range(100):\n",
    "    result += data\n",
    "result"
   ]
  },
  {
   "cell_type": "code",
   "execution_count": 51,
   "metadata": {},
   "outputs": [
    {
     "data": {
      "text/plain": [
       "([0, 1, 2, 3, 4], [5, 6, 7, 8, 9], [0, 2, 4, 6, 8])"
      ]
     },
     "execution_count": 51,
     "metadata": {},
     "output_type": "execute_result"
    }
   ],
   "source": [
    "# offset index 개념과 비슷하게 사용\n",
    "list(range(5)), list(range(5, 10)), list(range(0,10,2))"
   ]
  },
  {
   "cell_type": "code",
   "execution_count": 52,
   "metadata": {},
   "outputs": [
    {
     "data": {
      "text/plain": [
       "30"
      ]
     },
     "execution_count": 52,
     "metadata": {},
     "output_type": "execute_result"
    }
   ],
   "source": [
    "# 0~10까지 짝수를 더한 총합\n",
    "result = 0\n",
    "for number in range(0,11,2):\n",
    "        result += number\n",
    "result"
   ]
  },
  {
   "cell_type": "code",
   "execution_count": 53,
   "metadata": {},
   "outputs": [],
   "source": [
    "points_dict = {\"국어\": 80, \"영어\": 90, \"수학\": 100}"
   ]
  },
  {
   "cell_type": "code",
   "execution_count": 55,
   "metadata": {},
   "outputs": [
    {
     "name": "stdout",
     "output_type": "stream",
     "text": [
      "국어\n",
      "영어\n",
      "수학\n"
     ]
    }
   ],
   "source": [
    "for data in points_dict:\n",
    "    print(data)# key값만 출력이됨"
   ]
  },
  {
   "cell_type": "code",
   "execution_count": 57,
   "metadata": {},
   "outputs": [
    {
     "name": "stdout",
     "output_type": "stream",
     "text": [
      "('국어', 80)\n",
      "('영어', 90)\n",
      "('수학', 100)\n"
     ]
    }
   ],
   "source": [
    "for data in points_dict.items():\n",
    "    print(data)"
   ]
  },
  {
   "cell_type": "code",
   "execution_count": 58,
   "metadata": {},
   "outputs": [
    {
     "name": "stdout",
     "output_type": "stream",
     "text": [
      "국어 80\n",
      "영어 90\n",
      "수학 100\n"
     ]
    }
   ],
   "source": [
    "for subject, point in points_dict.items():\n",
    "    print(subject, point)\n",
    "# 꼭 하나의 변수에서만 받을 수 있는것이 아님\n",
    "# for문에서 iterable 데이터가 tuple로 나오면 여러개의 변수로 받을 수 있다."
   ]
  },
  {
   "cell_type": "code",
   "execution_count": 80,
   "metadata": {},
   "outputs": [
    {
     "name": "stdout",
     "output_type": "stream",
     "text": [
      "2*1=2\t3*1=3\t4*1=4\t5*1=5\t6*1=6\t7*1=7\t8*1=8\t9*1=9\t\n",
      "2*2=4\t3*2=6\t4*2=8\t5*2=10\t6*2=12\t7*2=14\t8*2=16\t9*2=18\t\n",
      "2*3=6\t3*3=9\t4*3=12\t5*3=15\t6*3=18\t7*3=21\t8*3=24\t9*3=27\t\n",
      "2*4=8\t3*4=12\t4*4=16\t5*4=20\t6*4=24\t7*4=28\t8*4=32\t9*4=36\t\n",
      "2*5=10\t3*5=15\t4*5=20\t5*5=25\t6*5=30\t7*5=35\t8*5=40\t9*5=45\t\n",
      "2*6=12\t3*6=18\t4*6=24\t5*6=30\t6*6=36\t7*6=42\t8*6=48\t9*6=54\t\n",
      "2*7=14\t3*7=21\t4*7=28\t5*7=35\t6*7=42\t7*7=49\t8*7=56\t9*7=63\t\n",
      "2*8=16\t3*8=24\t4*8=32\t5*8=40\t6*8=48\t7*8=56\t8*8=64\t9*8=72\t\n",
      "2*9=18\t3*9=27\t4*9=36\t5*9=45\t6*9=54\t7*9=63\t8*9=72\t9*9=81\t\n"
     ]
    }
   ],
   "source": [
    "for j in range(1,10):\n",
    "    for i in range(2,10):\n",
    "        print(\"{}*{}={}\".format(i,j,i*j), end='\\t')\n",
    "    print()"
   ]
  },
  {
   "cell_type": "markdown",
   "metadata": {},
   "source": [
    "### 3. List Comprehention\n",
    "- 리스트 데이터를 만들어주는 방법\n",
    "- for문 보다 빠르게 동작."
   ]
  },
  {
   "cell_type": "code",
   "execution_count": 82,
   "metadata": {},
   "outputs": [
    {
     "data": {
      "text/plain": [
       "[0, 1, 4, 9]"
      ]
     },
     "execution_count": 82,
     "metadata": {},
     "output_type": "execute_result"
    }
   ],
   "source": [
    "# 각각 값에 제곱한 결과 출력\n",
    "ls = [0,1,2,3]\n",
    "result = []\n",
    "for data in ls:\n",
    "    result.append(data**2)\n",
    "result"
   ]
  },
  {
   "cell_type": "code",
   "execution_count": 84,
   "metadata": {},
   "outputs": [
    {
     "data": {
      "text/plain": [
       "[0, 1, 4, 9]"
      ]
     },
     "execution_count": 84,
     "metadata": {},
     "output_type": "execute_result"
    }
   ],
   "source": [
    "result = [data**2 for data in ls]\n",
    "result"
   ]
  },
  {
   "cell_type": "code",
   "execution_count": 89,
   "metadata": {},
   "outputs": [
    {
     "data": {
      "text/plain": [
       "['짝수', '홀수', '짝수', '홀수']"
      ]
     },
     "execution_count": 89,
     "metadata": {},
     "output_type": "execute_result"
    }
   ],
   "source": [
    "# 리스트 컴프리헨션을써서 홀수와 짝수를 리스트로 출력해주는 코드\n",
    "# 삼항연산 사용\n",
    "ls = [0,1,2,3]\n",
    "#result = [\"짝수\", \"홀수\", \"짝수\", \"홀수\"]\n",
    "result = [\n",
    "    \"홀수\" if data%2 else \"짝수\"\n",
    "    for data in ls\n",
    "]\n",
    "result"
   ]
  },
  {
   "cell_type": "code",
   "execution_count": 92,
   "metadata": {},
   "outputs": [
    {
     "data": {
      "text/plain": [
       "[1, 3, 5, 7, 9]"
      ]
     },
     "execution_count": 92,
     "metadata": {},
     "output_type": "execute_result"
    }
   ],
   "source": [
    "# 리스트 컴프리헨션 조건문\n",
    "ls = range(10)\n",
    "[data for data in ls if data%2]"
   ]
  },
  {
   "cell_type": "code",
   "execution_count": 95,
   "metadata": {},
   "outputs": [
    {
     "data": {
      "text/plain": [
       "['clear', 'copy', 'count']"
      ]
     },
     "execution_count": 95,
     "metadata": {},
     "output_type": "execute_result"
    }
   ],
   "source": [
    "ls = [1,2,3]\n",
    "[func for func in dir(ls) if func[:2]!=\"__\" and func[0]==\"c\"]"
   ]
  },
  {
   "cell_type": "code",
   "execution_count": 96,
   "metadata": {},
   "outputs": [],
   "source": [
    "# for문과 list comprehention 성능 비교"
   ]
  },
  {
   "cell_type": "code",
   "execution_count": 100,
   "metadata": {},
   "outputs": [
    {
     "name": "stdout",
     "output_type": "stream",
     "text": [
      "933 µs ± 51.9 µs per loop (mean ± std. dev. of 7 runs, 1000 loops each)\n"
     ]
    }
   ],
   "source": [
    "%%timeit\n",
    "ls = []\n",
    "for num in range(1,10001):\n",
    "    ls.append(num)\n",
    "len(ls)"
   ]
  },
  {
   "cell_type": "code",
   "execution_count": 101,
   "metadata": {},
   "outputs": [
    {
     "name": "stdout",
     "output_type": "stream",
     "text": [
      "453 µs ± 30.9 µs per loop (mean ± std. dev. of 7 runs, 1000 loops each)\n"
     ]
    }
   ],
   "source": [
    "%%timeit\n",
    "ls = [num for num in range(1,10001)]\n",
    "len(ls)"
   ]
  },
  {
   "cell_type": "code",
   "execution_count": null,
   "metadata": {},
   "outputs": [],
   "source": []
  },
  {
   "cell_type": "code",
   "execution_count": null,
   "metadata": {},
   "outputs": [],
   "source": []
  }
 ],
 "metadata": {
  "kernelspec": {
   "display_name": "Python 3",
   "language": "python",
   "name": "python3"
  },
  "language_info": {
   "codemirror_mode": {
    "name": "ipython",
    "version": 3
   },
   "file_extension": ".py",
   "mimetype": "text/x-python",
   "name": "python",
   "nbconvert_exporter": "python",
   "pygments_lexer": "ipython3",
   "version": "3.7.4"
  }
 },
 "nbformat": 4,
 "nbformat_minor": 2
}
