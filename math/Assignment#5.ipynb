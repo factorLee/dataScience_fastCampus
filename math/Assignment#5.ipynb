{
 "cells": [
  {
   "cell_type": "code",
   "execution_count": 3,
   "metadata": {},
   "outputs": [
    {
     "name": "stdout",
     "output_type": "stream",
     "text": [
      "Requirement already satisfied: pgmpy in /Users/sangjulee1/opt/anaconda3/lib/python3.7/site-packages (0.1.14)\n",
      "Requirement already satisfied: networkx in /Users/sangjulee1/opt/anaconda3/lib/python3.7/site-packages (from pgmpy) (2.3)\n",
      "Requirement already satisfied: scikit-learn in /Users/sangjulee1/opt/anaconda3/lib/python3.7/site-packages (from pgmpy) (0.21.3)\n",
      "Requirement already satisfied: joblib in /Users/sangjulee1/opt/anaconda3/lib/python3.7/site-packages (from pgmpy) (0.13.2)\n",
      "Requirement already satisfied: pyparsing in /Users/sangjulee1/opt/anaconda3/lib/python3.7/site-packages (from pgmpy) (2.4.7)\n",
      "Requirement already satisfied: scipy in /Users/sangjulee1/opt/anaconda3/lib/python3.7/site-packages (from pgmpy) (1.3.1)\n",
      "Requirement already satisfied: pandas in /Users/sangjulee1/opt/anaconda3/lib/python3.7/site-packages (from pgmpy) (0.25.1)\n",
      "Requirement already satisfied: statsmodels in /Users/sangjulee1/opt/anaconda3/lib/python3.7/site-packages (from pgmpy) (0.10.1)\n",
      "Requirement already satisfied: tqdm in /Users/sangjulee1/opt/anaconda3/lib/python3.7/site-packages (from pgmpy) (4.36.1)\n",
      "Requirement already satisfied: torch in /Users/sangjulee1/opt/anaconda3/lib/python3.7/site-packages (from pgmpy) (1.8.1)\n",
      "Requirement already satisfied: numpy in /Users/sangjulee1/opt/anaconda3/lib/python3.7/site-packages (from pgmpy) (1.19.5)\n",
      "Requirement already satisfied: decorator>=4.3.0 in /Users/sangjulee1/opt/anaconda3/lib/python3.7/site-packages (from networkx->pgmpy) (4.4.0)\n",
      "Requirement already satisfied: python-dateutil>=2.6.1 in /Users/sangjulee1/opt/anaconda3/lib/python3.7/site-packages (from pandas->pgmpy) (2.8.1)\n",
      "Requirement already satisfied: pytz>=2017.2 in /Users/sangjulee1/opt/anaconda3/lib/python3.7/site-packages (from pandas->pgmpy) (2019.3)\n",
      "Requirement already satisfied: six>=1.5 in /Users/sangjulee1/opt/anaconda3/lib/python3.7/site-packages (from python-dateutil>=2.6.1->pandas->pgmpy) (1.16.0)\n",
      "Requirement already satisfied: patsy>=0.4.0 in /Users/sangjulee1/opt/anaconda3/lib/python3.7/site-packages (from statsmodels->pgmpy) (0.5.1)\n",
      "Requirement already satisfied: typing-extensions in /Users/sangjulee1/opt/anaconda3/lib/python3.7/site-packages (from torch->pgmpy) (3.7.4.3)\n"
     ]
    }
   ],
   "source": [
    "!pip install pgmpy"
   ]
  },
  {
   "cell_type": "code",
   "execution_count": 10,
   "metadata": {},
   "outputs": [],
   "source": [
    "from pgmpy.factors.discrete import TabularCPD\n",
    "import numpy as np\n"
   ]
  },
  {
   "cell_type": "code",
   "execution_count": 38,
   "metadata": {},
   "outputs": [
    {
     "name": "stdout",
     "output_type": "stream",
     "text": [
      "+------+-----+\n",
      "| X(0) | 0.9 |\n",
      "+------+-----+\n",
      "| X(1) | 0.1 |\n",
      "+------+-----+\n"
     ]
    }
   ],
   "source": [
    "\n",
    "cpd_X = TabularCPD('X', 2, [[0.9], [1-0.9]])\n",
    "print(cpd_X)"
   ]
  },
  {
   "cell_type": "code",
   "execution_count": 39,
   "metadata": {},
   "outputs": [
    {
     "name": "stdout",
     "output_type": "stream",
     "text": [
      "+------+------+------+\n",
      "| X    | X(0) | X(1) |\n",
      "+------+------+------+\n",
      "| Y(0) | 0.95 | 0.03 |\n",
      "+------+------+------+\n",
      "| Y(1) | 0.05 | 0.97 |\n",
      "+------+------+------+\n"
     ]
    }
   ],
   "source": [
    "cpd_Y_on_X = TabularCPD('Y', 2, np.array([[0.95,0.03], [0.05, 0.97]]),\n",
    "                       evidence=['X'], evidence_card=[2])\n",
    "\n",
    "print(cpd_Y_on_X)"
   ]
  },
  {
   "cell_type": "code",
   "execution_count": 54,
   "metadata": {},
   "outputs": [],
   "source": [
    "from pgmpy.models import BayesianModel\n",
    "\n"
   ]
  },
  {
   "cell_type": "code",
   "execution_count": 55,
   "metadata": {},
   "outputs": [
    {
     "data": {
      "text/plain": [
       "True"
      ]
     },
     "execution_count": 55,
     "metadata": {},
     "output_type": "execute_result"
    }
   ],
   "source": [
    "model = BayesianModel([('X','Y')])\n",
    "\n",
    "model.add_cpds(cpd_X, cpd_Y_on_X)\n",
    "model.check_model()"
   ]
  },
  {
   "cell_type": "code",
   "execution_count": 64,
   "metadata": {},
   "outputs": [
    {
     "name": "stderr",
     "output_type": "stream",
     "text": [
      "Finding Elimination Order: : : 0it [00:00, ?it/s]\n",
      "0it [00:00, ?it/s]\n"
     ]
    },
    {
     "ename": "TypeError",
     "evalue": "'DiscreteFactor' object is not subscriptable",
     "output_type": "error",
     "traceback": [
      "\u001b[0;31m---------------------------------------------------------------------------\u001b[0m",
      "\u001b[0;31mTypeError\u001b[0m                                 Traceback (most recent call last)",
      "\u001b[0;32m<ipython-input-64-5e3e5b8b3253>\u001b[0m in \u001b[0;36m<module>\u001b[0;34m\u001b[0m\n\u001b[1;32m      3\u001b[0m \u001b[0minference\u001b[0m \u001b[0;34m=\u001b[0m \u001b[0mVariableElimination\u001b[0m\u001b[0;34m(\u001b[0m\u001b[0mmodel\u001b[0m\u001b[0;34m)\u001b[0m\u001b[0;34m\u001b[0m\u001b[0;34m\u001b[0m\u001b[0m\n\u001b[1;32m      4\u001b[0m \u001b[0mposterior\u001b[0m \u001b[0;34m=\u001b[0m \u001b[0minference\u001b[0m\u001b[0;34m.\u001b[0m\u001b[0mquery\u001b[0m\u001b[0;34m(\u001b[0m\u001b[0mvariables\u001b[0m\u001b[0;34m=\u001b[0m\u001b[0;34m[\u001b[0m\u001b[0;34m'X'\u001b[0m\u001b[0;34m]\u001b[0m\u001b[0;34m,\u001b[0m\u001b[0mevidence\u001b[0m\u001b[0;34m=\u001b[0m\u001b[0;34m{\u001b[0m\u001b[0;34m'Y'\u001b[0m\u001b[0;34m:\u001b[0m \u001b[0;36m1\u001b[0m\u001b[0;34m}\u001b[0m\u001b[0;34m)\u001b[0m\u001b[0;34m\u001b[0m\u001b[0;34m\u001b[0m\u001b[0m\n\u001b[0;32m----> 5\u001b[0;31m \u001b[0mprint\u001b[0m\u001b[0;34m(\u001b[0m\u001b[0mposterior\u001b[0m\u001b[0;34m[\u001b[0m\u001b[0;34m'X'\u001b[0m\u001b[0;34m]\u001b[0m\u001b[0;34m)\u001b[0m\u001b[0;34m\u001b[0m\u001b[0;34m\u001b[0m\u001b[0m\n\u001b[0m",
      "\u001b[0;31mTypeError\u001b[0m: 'DiscreteFactor' object is not subscriptable"
     ]
    }
   ],
   "source": [
    "from pgmpy.inference import VariableElimination\n",
    "\n",
    "inference = VariableElimination(model)\n",
    "posterior = inference.query(variables=['X'],evidence={'Y': 1})\n",
    "print(posterior['X'])"
   ]
  },
  {
   "cell_type": "code",
   "execution_count": 69,
   "metadata": {},
   "outputs": [
    {
     "name": "stderr",
     "output_type": "stream",
     "text": [
      "Finding Elimination Order: : : 0it [00:00, ?it/s]\n",
      "0it [00:00, ?it/s]"
     ]
    },
    {
     "name": "stdout",
     "output_type": "stream",
     "text": [
      "+------+----------+\n",
      "| X    |   phi(X) |\n",
      "+======+==========+\n",
      "| X(0) |   0.3169 |\n",
      "+------+----------+\n",
      "| X(1) |   0.6831 |\n",
      "+------+----------+\n"
     ]
    },
    {
     "name": "stderr",
     "output_type": "stream",
     "text": [
      "\n"
     ]
    }
   ],
   "source": []
  },
  {
   "cell_type": "code",
   "execution_count": null,
   "metadata": {
    "scrolled": true
   },
   "outputs": [],
   "source": []
  },
  {
   "cell_type": "code",
   "execution_count": null,
   "metadata": {},
   "outputs": [],
   "source": []
  },
  {
   "cell_type": "code",
   "execution_count": null,
   "metadata": {},
   "outputs": [],
   "source": []
  }
 ],
 "metadata": {
  "kernelspec": {
   "display_name": "Python 3",
   "language": "python",
   "name": "python3"
  },
  "language_info": {
   "codemirror_mode": {
    "name": "ipython",
    "version": 3
   },
   "file_extension": ".py",
   "mimetype": "text/x-python",
   "name": "python",
   "nbconvert_exporter": "python",
   "pygments_lexer": "ipython3",
   "version": "3.7.4"
  }
 },
 "nbformat": 4,
 "nbformat_minor": 2
}
