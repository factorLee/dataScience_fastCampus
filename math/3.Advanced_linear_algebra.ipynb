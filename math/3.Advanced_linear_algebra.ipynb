{
 "cells": [
  {
   "cell_type": "markdown",
   "id": "ad9a797c",
   "metadata": {},
   "source": [
    "## 3.1 선형대수와 해석기하의 기초\n"
   ]
  },
  {
   "cell_type": "markdown",
   "id": "ac0739a5",
   "metadata": {},
   "source": [
    "### 벡터의 기하학적 의미\n",
    "- 벡터 a의 값으로 표시되는 점(point)\n",
    "- 원점과 벡터 a의 값으로 표시되는 점을 연결한 화살표(arrow)\n"
   ]
  },
  {
   "cell_type": "markdown",
   "id": "a4a1f7ad",
   "metadata": {},
   "source": [
    "### 벡터 길이\n",
    "- 벡터 a의 길이는 놈으로 전의한다."
   ]
  },
  {
   "cell_type": "code",
   "execution_count": 1,
   "id": "6bc933fa",
   "metadata": {},
   "outputs": [
    {
     "name": "stdout",
     "output_type": "stream",
     "text": [
      "test\n"
     ]
    }
   ],
   "source": [
    "print(\"test\")"
   ]
  },
  {
   "cell_type": "code",
   "execution_count": 1,
   "id": "fefc2322",
   "metadata": {},
   "outputs": [
    {
     "name": "stdout",
     "output_type": "stream",
     "text": [
      "test2\n"
     ]
    }
   ],
   "source": [
    "print(\"test2\")"
   ]
  },
  {
   "cell_type": "code",
   "execution_count": null,
   "id": "23d69d9c",
   "metadata": {},
   "outputs": [],
   "source": []
  }
 ],
 "metadata": {
  "kernelspec": {
   "display_name": "Python 3",
   "language": "python",
   "name": "python3"
  },
  "language_info": {
   "codemirror_mode": {
    "name": "ipython",
    "version": 3
   },
   "file_extension": ".py",
   "mimetype": "text/x-python",
   "name": "python",
   "nbconvert_exporter": "python",
   "pygments_lexer": "ipython3",
   "version": "3.9.1"
  }
 },
 "nbformat": 4,
 "nbformat_minor": 5
}
