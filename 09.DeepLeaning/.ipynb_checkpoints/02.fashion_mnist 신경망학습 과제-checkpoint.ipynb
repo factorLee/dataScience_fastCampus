{
 "cells": [
  {
   "cell_type": "markdown",
   "metadata": {
    "id": "wFyHeKq6WNBm"
   },
   "source": [
    "# [최종평가주차 코딩 실습](딥러닝 01. 신경망 기초 이론_케라스를 사용한 신경망 구현_20200206_03) keras를 사용하여 fashion_mnist데이터를 분류하는 모델을 만드세요\n",
    "* keras로 fashion_mnist를 학습시키세요\n",
    "* 모델이 예측한 test set데이터 X_test[20]의 class를 출력하고, X_test0[20]이미지를 출력하여 정확히 예측했는지 판단하세요\n",
    "```\n",
    "class 구분\n",
    "0 : 티셔츠/탑\n",
    "1 : 바지\n",
    "2 : 풀오버(스웨터의 일종)\n",
    "3 : 드레스\n",
    "4 : 코트\n",
    "5 : 샌들\n",
    "6 : 셔츠\n",
    "7 : 스니커즈\n",
    "8 : 가방\n",
    "9 : 앵클 부츠\n",
    "```\n"
   ]
  },
  {
   "cell_type": "code",
   "execution_count": 11,
   "metadata": {
    "id": "D24_IYiuXYZ_"
   },
   "outputs": [],
   "source": [
    "# 이 코드를 먼저 실행하세요\n",
    "\n",
    "from tensorflow import keras\n",
    "\n",
    "fashion_mnist = keras.datasets.fashion_mnist\n",
    "(X_train0, y_train0), (X_test0, y_test0) = fashion_mnist.load_data()\n",
    "\n",
    "import matplotlib.pylab as plt"
   ]
  },
  {
   "cell_type": "code",
   "execution_count": 12,
   "metadata": {
    "colab": {
     "base_uri": "https://localhost:8080/"
    },
    "id": "h9zd1eSpXYPZ",
    "outputId": "b7736527-d9b7-4846-a8e1-67bbd3b150df"
   },
   "outputs": [
    {
     "data": {
      "text/plain": [
       "((60000, 28, 28), dtype('uint8'), (10000, 28, 28), dtype('uint8'))"
      ]
     },
     "execution_count": 12,
     "metadata": {
      "tags": []
     },
     "output_type": "execute_result"
    }
   ],
   "source": [
    "# 여기에 코드를 작성하세요\n",
    "X_train0.shape, X_train0.dtype, X_test0.shape, X_test0.dtype"
   ]
  },
  {
   "cell_type": "code",
   "execution_count": 13,
   "metadata": {
    "colab": {
     "base_uri": "https://localhost:8080/"
    },
    "id": "vx37q_I17Jqm",
    "outputId": "2be31425-54dd-4dfd-ca39-5ed855d4fe5a"
   },
   "outputs": [
    {
     "name": "stdout",
     "output_type": "stream",
     "text": [
      "(60000, 784) float32 (10000, 784) float32\n"
     ]
    }
   ],
   "source": [
    "X_train = X_train0.reshape(60000, 784).astype('float32') / 255.0\n",
    "X_test = X_test0.reshape(10000, 784).astype('float32') / 255.0\n",
    "print(X_train.shape, X_train.dtype, X_test.shape, X_test.dtype)"
   ]
  },
  {
   "cell_type": "code",
   "execution_count": 14,
   "metadata": {
    "colab": {
     "base_uri": "https://localhost:8080/"
    },
    "id": "FkPlJPhCoz2V",
    "outputId": "aaf25b4a-2f82-47fe-cfb9-6549df3653b9"
   },
   "outputs": [
    {
     "data": {
      "text/plain": [
       "array([9, 0, 0, 3, 0], dtype=uint8)"
      ]
     },
     "execution_count": 14,
     "metadata": {
      "tags": []
     },
     "output_type": "execute_result"
    }
   ],
   "source": [
    "y_train0[:5]"
   ]
  },
  {
   "cell_type": "code",
   "execution_count": 15,
   "metadata": {
    "colab": {
     "base_uri": "https://localhost:8080/"
    },
    "id": "L9TXwkX3ozz_",
    "outputId": "21997687-7de7-4f79-9f4f-e5674596ef6c"
   },
   "outputs": [
    {
     "data": {
      "text/plain": [
       "(array([[0., 0., 0., 0., 0., 0., 0., 0., 0., 1.],\n",
       "        [1., 0., 0., 0., 0., 0., 0., 0., 0., 0.],\n",
       "        [1., 0., 0., 0., 0., 0., 0., 0., 0., 0.],\n",
       "        [0., 0., 0., 1., 0., 0., 0., 0., 0., 0.],\n",
       "        [1., 0., 0., 0., 0., 0., 0., 0., 0., 0.]], dtype=float32),\n",
       " array([[0., 0., 0., 0., 0., 0., 0., 0., 0., 1.],\n",
       "        [0., 0., 1., 0., 0., 0., 0., 0., 0., 0.],\n",
       "        [0., 1., 0., 0., 0., 0., 0., 0., 0., 0.],\n",
       "        [0., 1., 0., 0., 0., 0., 0., 0., 0., 0.],\n",
       "        [0., 0., 0., 0., 0., 0., 1., 0., 0., 0.]], dtype=float32))"
      ]
     },
     "execution_count": 15,
     "metadata": {
      "tags": []
     },
     "output_type": "execute_result"
    }
   ],
   "source": [
    "# One-Hot Encoding\n",
    "from tensorflow.keras.utils import to_categorical\n",
    "\n",
    "Y_train = to_categorical(y_train0, 10)\n",
    "Y_test = to_categorical(y_test0, 10)\n",
    "\n",
    "Y_train[:5], Y_test[:5]"
   ]
  },
  {
   "cell_type": "code",
   "execution_count": 16,
   "metadata": {
    "colab": {
     "base_uri": "https://localhost:8080/"
    },
    "id": "5-43vgDbozxn",
    "outputId": "e63f23bc-b80a-46e3-d365-9acad88e0c6a"
   },
   "outputs": [
    {
     "name": "stderr",
     "output_type": "stream",
     "text": [
      "/usr/local/lib/python3.7/dist-packages/tensorflow/python/keras/optimizer_v2/optimizer_v2.py:375: UserWarning: The `lr` argument is deprecated, use `learning_rate` instead.\n",
      "  \"The `lr` argument is deprecated, use `learning_rate` instead.\")\n"
     ]
    }
   ],
   "source": [
    "# 신경망 구현\n",
    "import tensorflow as tf\n",
    "from tensorflow.keras.models import Sequential\n",
    "from tensorflow.keras.layers import Dense\n",
    "from tensorflow.keras.optimizers import SGD\n",
    "\n",
    "tf.random.set_seed(0)\n",
    "\n",
    "model = Sequential()\n",
    "model.add(Dense(15, input_dim=784, activation=\"sigmoid\"))\n",
    "model.add(Dense(10, activation=\"sigmoid\"))\n",
    "\n",
    "model.compile(optimizer=SGD(lr=0.2), \n",
    "              loss='mean_squared_error', \n",
    "              metrics=[\"accuracy\"]\n",
    "              )"
   ]
  },
  {
   "cell_type": "code",
   "execution_count": 17,
   "metadata": {
    "colab": {
     "base_uri": "https://localhost:8080/"
    },
    "id": "Whvqcd_tozvD",
    "outputId": "d594612b-0fda-4a0e-e382-bfe5816c9102"
   },
   "outputs": [
    {
     "name": "stdout",
     "output_type": "stream",
     "text": [
      "Model: \"sequential_1\"\n",
      "_________________________________________________________________\n",
      "Layer (type)                 Output Shape              Param #   \n",
      "=================================================================\n",
      "dense_2 (Dense)              (None, 15)                11775     \n",
      "_________________________________________________________________\n",
      "dense_3 (Dense)              (None, 10)                160       \n",
      "=================================================================\n",
      "Total params: 11,935\n",
      "Trainable params: 11,935\n",
      "Non-trainable params: 0\n",
      "_________________________________________________________________\n"
     ]
    }
   ],
   "source": [
    "model.summary()"
   ]
  },
  {
   "cell_type": "code",
   "execution_count": 18,
   "metadata": {
    "colab": {
     "base_uri": "https://localhost:8080/"
    },
    "id": "VI67XcD_ozsz",
    "outputId": "68fccb41-045e-4dfa-a888-f384770d5dfe"
   },
   "outputs": [
    {
     "name": "stdout",
     "output_type": "stream",
     "text": [
      "Epoch 1/50\n",
      "600/600 - 1s - loss: 0.0972 - accuracy: 0.2524 - val_loss: 0.0863 - val_accuracy: 0.3369\n",
      "Epoch 2/50\n",
      "600/600 - 1s - loss: 0.0836 - accuracy: 0.4127 - val_loss: 0.0809 - val_accuracy: 0.4887\n",
      "Epoch 3/50\n",
      "600/600 - 1s - loss: 0.0783 - accuracy: 0.5104 - val_loss: 0.0758 - val_accuracy: 0.5286\n",
      "Epoch 4/50\n",
      "600/600 - 1s - loss: 0.0734 - accuracy: 0.5469 - val_loss: 0.0711 - val_accuracy: 0.5846\n",
      "Epoch 5/50\n",
      "600/600 - 1s - loss: 0.0689 - accuracy: 0.5981 - val_loss: 0.0669 - val_accuracy: 0.6103\n",
      "Epoch 6/50\n",
      "600/600 - 1s - loss: 0.0648 - accuracy: 0.6225 - val_loss: 0.0631 - val_accuracy: 0.6233\n",
      "Epoch 7/50\n",
      "600/600 - 1s - loss: 0.0611 - accuracy: 0.6388 - val_loss: 0.0597 - val_accuracy: 0.6421\n",
      "Epoch 8/50\n",
      "600/600 - 1s - loss: 0.0579 - accuracy: 0.6561 - val_loss: 0.0567 - val_accuracy: 0.6619\n",
      "Epoch 9/50\n",
      "600/600 - 1s - loss: 0.0551 - accuracy: 0.6720 - val_loss: 0.0541 - val_accuracy: 0.6733\n",
      "Epoch 10/50\n",
      "600/600 - 1s - loss: 0.0526 - accuracy: 0.6853 - val_loss: 0.0517 - val_accuracy: 0.6891\n",
      "Epoch 11/50\n",
      "600/600 - 1s - loss: 0.0503 - accuracy: 0.6984 - val_loss: 0.0496 - val_accuracy: 0.7018\n",
      "Epoch 12/50\n",
      "600/600 - 1s - loss: 0.0483 - accuracy: 0.7092 - val_loss: 0.0478 - val_accuracy: 0.7073\n",
      "Epoch 13/50\n",
      "600/600 - 1s - loss: 0.0465 - accuracy: 0.7157 - val_loss: 0.0462 - val_accuracy: 0.7145\n",
      "Epoch 14/50\n",
      "600/600 - 1s - loss: 0.0450 - accuracy: 0.7230 - val_loss: 0.0447 - val_accuracy: 0.7180\n",
      "Epoch 15/50\n",
      "600/600 - 1s - loss: 0.0436 - accuracy: 0.7304 - val_loss: 0.0435 - val_accuracy: 0.7223\n",
      "Epoch 16/50\n",
      "600/600 - 1s - loss: 0.0424 - accuracy: 0.7362 - val_loss: 0.0424 - val_accuracy: 0.7297\n",
      "Epoch 17/50\n",
      "600/600 - 1s - loss: 0.0413 - accuracy: 0.7419 - val_loss: 0.0414 - val_accuracy: 0.7377\n",
      "Epoch 18/50\n",
      "600/600 - 1s - loss: 0.0404 - accuracy: 0.7474 - val_loss: 0.0405 - val_accuracy: 0.7409\n",
      "Epoch 19/50\n",
      "600/600 - 1s - loss: 0.0395 - accuracy: 0.7525 - val_loss: 0.0396 - val_accuracy: 0.7470\n",
      "Epoch 20/50\n",
      "600/600 - 1s - loss: 0.0386 - accuracy: 0.7575 - val_loss: 0.0389 - val_accuracy: 0.7539\n",
      "Epoch 21/50\n",
      "600/600 - 1s - loss: 0.0379 - accuracy: 0.7625 - val_loss: 0.0382 - val_accuracy: 0.7567\n",
      "Epoch 22/50\n",
      "600/600 - 1s - loss: 0.0372 - accuracy: 0.7667 - val_loss: 0.0375 - val_accuracy: 0.7607\n",
      "Epoch 23/50\n",
      "600/600 - 1s - loss: 0.0365 - accuracy: 0.7717 - val_loss: 0.0369 - val_accuracy: 0.7658\n",
      "Epoch 24/50\n",
      "600/600 - 1s - loss: 0.0359 - accuracy: 0.7765 - val_loss: 0.0363 - val_accuracy: 0.7684\n",
      "Epoch 25/50\n",
      "600/600 - 1s - loss: 0.0353 - accuracy: 0.7808 - val_loss: 0.0358 - val_accuracy: 0.7712\n",
      "Epoch 26/50\n",
      "600/600 - 1s - loss: 0.0347 - accuracy: 0.7843 - val_loss: 0.0353 - val_accuracy: 0.7752\n",
      "Epoch 27/50\n",
      "600/600 - 1s - loss: 0.0342 - accuracy: 0.7887 - val_loss: 0.0348 - val_accuracy: 0.7772\n",
      "Epoch 28/50\n",
      "600/600 - 1s - loss: 0.0337 - accuracy: 0.7925 - val_loss: 0.0343 - val_accuracy: 0.7804\n",
      "Epoch 29/50\n",
      "600/600 - 1s - loss: 0.0332 - accuracy: 0.7957 - val_loss: 0.0339 - val_accuracy: 0.7841\n",
      "Epoch 30/50\n",
      "600/600 - 1s - loss: 0.0328 - accuracy: 0.7981 - val_loss: 0.0335 - val_accuracy: 0.7858\n",
      "Epoch 31/50\n",
      "600/600 - 1s - loss: 0.0324 - accuracy: 0.8007 - val_loss: 0.0331 - val_accuracy: 0.7889\n",
      "Epoch 32/50\n",
      "600/600 - 1s - loss: 0.0319 - accuracy: 0.8039 - val_loss: 0.0327 - val_accuracy: 0.7924\n",
      "Epoch 33/50\n",
      "600/600 - 1s - loss: 0.0316 - accuracy: 0.8057 - val_loss: 0.0323 - val_accuracy: 0.7938\n",
      "Epoch 34/50\n",
      "600/600 - 1s - loss: 0.0312 - accuracy: 0.8072 - val_loss: 0.0320 - val_accuracy: 0.7979\n",
      "Epoch 35/50\n",
      "600/600 - 1s - loss: 0.0308 - accuracy: 0.8096 - val_loss: 0.0316 - val_accuracy: 0.8000\n",
      "Epoch 36/50\n",
      "600/600 - 1s - loss: 0.0305 - accuracy: 0.8112 - val_loss: 0.0313 - val_accuracy: 0.8017\n",
      "Epoch 37/50\n",
      "600/600 - 1s - loss: 0.0302 - accuracy: 0.8130 - val_loss: 0.0310 - val_accuracy: 0.8036\n",
      "Epoch 38/50\n",
      "600/600 - 1s - loss: 0.0299 - accuracy: 0.8150 - val_loss: 0.0307 - val_accuracy: 0.8046\n",
      "Epoch 39/50\n",
      "600/600 - 1s - loss: 0.0296 - accuracy: 0.8162 - val_loss: 0.0305 - val_accuracy: 0.8063\n",
      "Epoch 40/50\n",
      "600/600 - 1s - loss: 0.0293 - accuracy: 0.8180 - val_loss: 0.0302 - val_accuracy: 0.8091\n",
      "Epoch 41/50\n",
      "600/600 - 1s - loss: 0.0290 - accuracy: 0.8196 - val_loss: 0.0300 - val_accuracy: 0.8101\n",
      "Epoch 42/50\n",
      "600/600 - 1s - loss: 0.0288 - accuracy: 0.8209 - val_loss: 0.0297 - val_accuracy: 0.8109\n",
      "Epoch 43/50\n",
      "600/600 - 1s - loss: 0.0286 - accuracy: 0.8220 - val_loss: 0.0295 - val_accuracy: 0.8118\n",
      "Epoch 44/50\n",
      "600/600 - 1s - loss: 0.0283 - accuracy: 0.8236 - val_loss: 0.0293 - val_accuracy: 0.8139\n",
      "Epoch 45/50\n",
      "600/600 - 1s - loss: 0.0281 - accuracy: 0.8246 - val_loss: 0.0291 - val_accuracy: 0.8149\n",
      "Epoch 46/50\n",
      "600/600 - 1s - loss: 0.0279 - accuracy: 0.8260 - val_loss: 0.0289 - val_accuracy: 0.8137\n",
      "Epoch 47/50\n",
      "600/600 - 1s - loss: 0.0277 - accuracy: 0.8267 - val_loss: 0.0288 - val_accuracy: 0.8155\n",
      "Epoch 48/50\n",
      "600/600 - 1s - loss: 0.0275 - accuracy: 0.8276 - val_loss: 0.0286 - val_accuracy: 0.8171\n",
      "Epoch 49/50\n",
      "600/600 - 1s - loss: 0.0274 - accuracy: 0.8287 - val_loss: 0.0284 - val_accuracy: 0.8160\n",
      "Epoch 50/50\n",
      "600/600 - 1s - loss: 0.0272 - accuracy: 0.8295 - val_loss: 0.0283 - val_accuracy: 0.8180\n",
      "CPU times: user 54.3 s, sys: 4.46 s, total: 58.8 s\n",
      "Wall time: 43 s\n"
     ]
    }
   ],
   "source": [
    "%%time\n",
    "hist = model.fit(X_train, Y_train,\n",
    "                 epochs=50, batch_size=100,\n",
    "                 validation_data=(X_test, Y_test),\n",
    "                 verbose=2)"
   ]
  },
  {
   "cell_type": "code",
   "execution_count": 18,
   "metadata": {
    "id": "tnXTSZYOozjK"
   },
   "outputs": [],
   "source": []
  },
  {
   "cell_type": "code",
   "execution_count": 19,
   "metadata": {
    "colab": {
     "base_uri": "https://localhost:8080/"
    },
    "id": "2gz9UL8_7Vd4",
    "outputId": "6a04e71e-1a9b-42d3-d44a-fd8d7e4847b6"
   },
   "outputs": [
    {
     "name": "stderr",
     "output_type": "stream",
     "text": [
      "/usr/local/lib/python3.7/dist-packages/tensorflow/python/keras/engine/sequential.py:455: UserWarning: `model.predict_classes()` is deprecated and will be removed after 2021-01-01. Please use instead:* `np.argmax(model.predict(x), axis=-1)`,   if your model does multi-class classification   (e.g. if it uses a `softmax` last-layer activation).* `(model.predict(x) > 0.5).astype(\"int32\")`,   if your model does binary classification   (e.g. if it uses a `sigmoid` last-layer activation).\n",
      "  warnings.warn('`model.predict_classes()` is deprecated and '\n"
     ]
    },
    {
     "data": {
      "text/plain": [
       "array([2])"
      ]
     },
     "execution_count": 19,
     "metadata": {
      "tags": []
     },
     "output_type": "execute_result"
    }
   ],
   "source": [
    "# 결과 출력 코드\n",
    "model.predict_classes(X_test[[20],:],verbose=0)"
   ]
  },
  {
   "cell_type": "code",
   "execution_count": 20,
   "metadata": {
    "colab": {
     "base_uri": "https://localhost:8080/",
     "height": 85
    },
    "id": "X-RhoGrY7PNI",
    "outputId": "f15ff218-102f-40d2-8027-f84ad45957f0"
   },
   "outputs": [
    {
     "data": {
      "image/png": "[encoded data removed]",
      "text/plain": [
       "<Figure size 72x72 with 1 Axes>"
      ]
     },
     "metadata": {
      "needs_background": "light",
      "tags": []
     },
     "output_type": "display_data"
    }
   ],
   "source": [
    "plt.figure(figsize=(1,1))\n",
    "plt.imshow(X_test0[20],cmap=plt.cm.bone_r)\n",
    "plt.grid(False)\n",
    "plt.axis(\"off\")\n",
    "plt.show()"
   ]
  }
 ],
 "metadata": {
  "colab": {
   "collapsed_sections": [],
   "name": "(4-2)이상주 - (데사 완주반) 최종평가_과제.ipynb",
   "provenance": []
  },
  "kernelspec": {
   "display_name": "Python 3",
   "language": "python",
   "name": "python3"
  },
  "language_info": {
   "codemirror_mode": {
    "name": "ipython",
    "version": 3
   },
   "file_extension": ".py",
   "mimetype": "text/x-python",
   "name": "python",
   "nbconvert_exporter": "python",
   "pygments_lexer": "ipython3",
   "version": "3.8.2"
  }
 },
 "nbformat": 4,
 "nbformat_minor": 1
}
