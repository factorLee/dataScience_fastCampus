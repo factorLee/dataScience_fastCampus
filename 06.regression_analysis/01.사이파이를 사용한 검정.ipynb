{
 "cells": [
  {
   "cell_type": "markdown",
   "id": "918d6d44",
   "metadata": {},
   "source": [
    "## 이항검정 (Binomial Test)\n",
    "- 이항분포를 사용하여 베르누이 확률변수의 모수 뮤에대한 가설을 조사하는 검정\n",
    "- ```binom_test```"
   ]
  },
  {
   "cell_type": "code",
   "execution_count": 72,
   "id": "adc8a11c",
   "metadata": {},
   "outputs": [
    {
     "name": "stdout",
     "output_type": "stream",
     "text": [
      "WARNING: pip is being invoked by an old script wrapper. This will fail in a future version of pip.\n",
      "Please see https://github.com/pypa/pip/issues/5599 for advice on fixing the underlying issue.\n",
      "To avoid this problem you can invoke Python with '-m pip' instead of running pip directly.\n",
      "\u001b[31mERROR: Could not find a version that satisfies the requirement matplyplot (from versions: none)\u001b[0m\n",
      "\u001b[31mERROR: No matching distribution found for matplyplot\u001b[0m\n",
      "\u001b[33mWARNING: You are using pip version 21.1.1; however, version 21.1.2 is available.\n",
      "You should consider upgrading via the '/Library/Frameworks/Python.framework/Versions/3.8/bin/python3.8 -m pip install --upgrade pip' command.\u001b[0m\n"
     ]
    }
   ],
   "source": [
    "!pip3 install matplyplot"
   ]
  },
  {
   "cell_type": "code",
   "execution_count": 74,
   "id": "854073fe",
   "metadata": {},
   "outputs": [],
   "source": [
    "import scipy as sp\n",
    "from scipy import stats, optimize, interpolate\n",
    "import matplotlib.pylab as plt"
   ]
  },
  {
   "cell_type": "code",
   "execution_count": 25,
   "id": "1a037689",
   "metadata": {},
   "outputs": [
    {
     "data": {
      "text/plain": [
       "7"
      ]
     },
     "execution_count": 25,
     "metadata": {},
     "output_type": "execute_result"
    }
   ],
   "source": [
    "\n",
    "N = 10\n",
    "mu_0 = 0.5\n",
    "np.random.seed(0)\n",
    "x = sp.stats.bernoulli(mu_0).rvs(N)\n",
    "n = np.count_nonzero(x)\n",
    "n\n",
    "\n",
    "# 귀무가설 : 동전은 페어하다.\n",
    "# 7번 앞면"
   ]
  },
  {
   "cell_type": "code",
   "execution_count": 26,
   "id": "55e22570",
   "metadata": {},
   "outputs": [
    {
     "data": {
      "text/plain": [
       "0.3437499999999999"
      ]
     },
     "execution_count": 26,
     "metadata": {},
     "output_type": "execute_result"
    }
   ],
   "source": [
    "# 모수값이 항상 0.5 보다 크냐\n",
    "sp.stats.binom_test(n, N)\n",
    "# output : P-value\n",
    "# p-value가 크게나옴 : 이 동전이 페어하지 않은 동전이라고 단언할 수 없다. (귀무가설을 기각하지 못한다.)"
   ]
  },
  {
   "cell_type": "markdown",
   "id": "4bb68426",
   "metadata": {},
   "source": [
    "### 100번 시뮬레이션 (N=100)"
   ]
  },
  {
   "cell_type": "code",
   "execution_count": 27,
   "id": "fb51802d",
   "metadata": {},
   "outputs": [
    {
     "data": {
      "text/plain": [
       "49"
      ]
     },
     "execution_count": 27,
     "metadata": {},
     "output_type": "execute_result"
    }
   ],
   "source": [
    "N = 100\n",
    "mu_0 = 0.5\n",
    "np.random.seed(0)\n",
    "x = sp.stats.bernoulli(mu_0).rvs(N)\n",
    "n = np.count_nonzero(x)\n",
    "n\n",
    "\n",
    "# 49번 앞면"
   ]
  },
  {
   "cell_type": "code",
   "execution_count": 75,
   "id": "4e2f3b2c",
   "metadata": {},
   "outputs": [
    {
     "data": {
      "text/plain": [
       "0.3437499999999999"
      ]
     },
     "execution_count": 75,
     "metadata": {},
     "output_type": "execute_result"
    }
   ],
   "source": [
    "sp.stats.binom_test(n, N) # 귀무가설이 맞다."
   ]
  },
  {
   "cell_type": "markdown",
   "id": "79be876a",
   "metadata": {},
   "source": [
    "### 모수 뮤 = 0.35"
   ]
  },
  {
   "cell_type": "code",
   "execution_count": 30,
   "id": "23ea1173",
   "metadata": {},
   "outputs": [
    {
     "data": {
      "text/plain": [
       "31"
      ]
     },
     "execution_count": 30,
     "metadata": {},
     "output_type": "execute_result"
    }
   ],
   "source": [
    "N = 100\n",
    "mu_0 = 0.35\n",
    "np.random.seed(0)\n",
    "x = sp.stats.bernoulli(mu_0).rvs(N)\n",
    "n = np.count_nonzero(x)\n",
    "n"
   ]
  },
  {
   "cell_type": "code",
   "execution_count": 32,
   "id": "d4e6f625",
   "metadata": {},
   "outputs": [
    {
     "data": {
      "text/plain": [
       "0.00018314322488235352"
      ]
     },
     "execution_count": 32,
     "metadata": {},
     "output_type": "execute_result"
    }
   ],
   "source": [
    "sp.stats.binom_test(n, N) # 페어하지 않다."
   ]
  },
  {
   "cell_type": "markdown",
   "id": "6fa376ac",
   "metadata": {},
   "source": [
    "### 연습문제 9.5.1"
   ]
  },
  {
   "cell_type": "code",
   "execution_count": 80,
   "id": "2c1dbd30",
   "metadata": {},
   "outputs": [
    {
     "name": "stdout",
     "output_type": "stream",
     "text": [
      "N=10일 때 공정한 경우: 앞면이 나온 횟수가 2~8 일 때\n"
     ]
    }
   ],
   "source": [
    "N1 = 10\n",
    "pvalues1 = np.array([sp.stats.binom_test(n, N1) for n in range(N1 + 1)])\n",
    "fair_range1, = np.where(pvalues1 > 0.1)\n",
    "fair_start1, fair_end1 = fair_range1[0], fair_range1[-1]\n",
    "print('N={}일 때 공정한 경우: 앞면이 나온 횟수가 {}~{} 일 때'.format(N1, fair_start1, fair_end1))"
   ]
  },
  {
   "cell_type": "code",
   "execution_count": 104,
   "id": "a5adbd98",
   "metadata": {},
   "outputs": [
    {
     "name": "stdout",
     "output_type": "stream",
     "text": [
      "N=1000일 때 공정한 경우: 앞면이 나온 횟수가 474~526 일 때\n"
     ]
    }
   ],
   "source": [
    "N2 = 1000\n",
    "pvalues2 = np.array([sp.stats.binom_test(n, N2) for n in range(N2 + 1)])\n",
    "fair_range2, = np.where(pvalues2 > 0.1)\n",
    "fair_start2, fair_end2 = fair_range2[0], fair_range2[-1]\n",
    "print('N={}일 때 공정한 경우: 앞면이 나온 횟수가 {}~{} 일 때'.format(N2, fair_start2, fair_end2))"
   ]
  },
  {
   "cell_type": "code",
   "execution_count": 107,
   "id": "a77ece76",
   "metadata": {},
   "outputs": [
    {
     "data": {
      "image/png": "[encoded data removed]",
      "text/plain": [
       "<Figure size 432x288 with 2 Axes>"
      ]
     },
     "metadata": {
      "image/png": {
       "height": 263,
       "width": 385
      },
      "needs_background": "light"
     },
     "output_type": "display_data"
    }
   ],
   "source": [
    "plt.subplot(211)\n",
    "plt.plot(pvalues1, '-b')\n",
    "plt.hlines(y=0.1, xmin=0, xmax=N1+1, ls='--')\n",
    "plt.xlim(0, N1)\n",
    "plt.title('N={}일 때 유의확률'.format(N1))\n",
    "plt.grid(True)\n",
    "\n",
    "plt.subplot(212)\n",
    "plt.plot(pvalues2, '-b')\n",
    "plt.hlines(y=0.1, xmin=0, xmax=N2+1, ls='--')\n",
    "plt.xlim(0, N2)\n",
    "plt.title('N={}일 때 유의확률'.format(N2))\n",
    "plt.grid(True)\n",
    "plt.show()"
   ]
  },
  {
   "cell_type": "markdown",
   "id": "652b6e21",
   "metadata": {},
   "source": [
    "### 연습 문제 9.5.4"
   ]
  },
  {
   "cell_type": "code",
   "execution_count": 112,
   "id": "a71ac67a",
   "metadata": {},
   "outputs": [
    {
     "data": {
      "text/plain": [
       "array([0, 0, 0, 0, 0, 5])"
      ]
     },
     "execution_count": 112,
     "metadata": {},
     "output_type": "execute_result"
    }
   ],
   "source": [
    "# N = 5\n",
    "# mu_0 = np.array([0.25, 0.25, 0.25, 0.25, 0.25, 0.25])\n",
    "n = np.array([0, 0, 0, 0, 0, 5])\n",
    "n"
   ]
  },
  {
   "cell_type": "code",
   "execution_count": 113,
   "id": "f260ac03",
   "metadata": {},
   "outputs": [
    {
     "data": {
      "text/plain": [
       "Power_divergenceResult(statistic=25.000000000000004, pvalue=0.00013933379118562602)"
      ]
     },
     "execution_count": 113,
     "metadata": {},
     "output_type": "execute_result"
    }
   ],
   "source": [
    "sp.stats.chisquare(n)"
   ]
  },
  {
   "cell_type": "markdown",
   "id": "4d2e9270",
   "metadata": {},
   "source": [
    "### 카이제곱 독립검정"
   ]
  },
  {
   "cell_type": "code",
   "execution_count": 115,
   "id": "024b9442",
   "metadata": {},
   "outputs": [
    {
     "data": {
      "text/plain": [
       "(0.0992063492063492,\n",
       " 0.7527841326498471,\n",
       " 1,\n",
       " array([[ 6., 14.],\n",
       "        [ 9., 21.]]))"
      ]
     },
     "execution_count": 115,
     "metadata": {},
     "output_type": "execute_result"
    }
   ],
   "source": [
    "obs = np.array([[5,15], [10, 20]])\n",
    "sp.stats.chi2_contingency(obs)\n",
    "\n",
    "# 귀무가설 : 상관관계가 없다.\n",
    "# 유의확률 : 0.75... \n",
    "# 따라서 상관관계가 없다는 귀무가설은 채택된다."
   ]
  },
  {
   "cell_type": "code",
   "execution_count": 119,
   "id": "3712e7bf",
   "metadata": {},
   "outputs": [
    {
     "name": "stdout",
     "output_type": "stream",
     "text": [
      "0.00704786570249751\n"
     ]
    }
   ],
   "source": [
    "# 연습문제 9.5.5\n",
    "\n",
    "obs = np.array([[4,16,20], [23, 18, 19]])\n",
    "result = sp.stats.chi2_contingency(obs)\n",
    "\n",
    "print(result[1])\n",
    "# 귀무가설 : 상관관계가 없다.\n",
    "# 유의확률 : 0.007...\n",
    "# 따라서 상관관계가 없다는 귀무가설은 기각 된다. (상관관계가 있다.)\n"
   ]
  },
  {
   "cell_type": "markdown",
   "id": "9f25743a",
   "metadata": {},
   "source": [
    "### 독립표본 t 검정"
   ]
  },
  {
   "cell_type": "code",
   "execution_count": 131,
   "id": "1300b473",
   "metadata": {},
   "outputs": [
    {
     "data": {
      "text/plain": [
       "Ttest_indResult(statistic=0.9526584055059303, pvalue=0.36325772995270544)"
      ]
     },
     "execution_count": 131,
     "metadata": {},
     "output_type": "execute_result"
    }
   ],
   "source": [
    "x1 = np.array([80, 75, 85, 50, 60, 75, 70, 90, 95, 85, 80])\n",
    "x2 = np.array([80, 85, 70, 80, 35, 55, 80])\n",
    "\n",
    "# print(np.mean(x1))\n",
    "\n",
    "\n",
    "sp.stats.ttest_ind(x1, x2, equal_var=False)\n",
    "\n",
    "# p-value(유의확률) : 0.3632.. \n",
    "# 귀무가설 : 뮤 값이 같냐\n",
    "# 귀무가설 채택 (실력은 같다.) (실력은 같아도 이정도 점수차이는 날 수 있다.)"
   ]
  },
  {
   "cell_type": "code",
   "execution_count": null,
   "id": "015a11d6",
   "metadata": {},
   "outputs": [],
   "source": []
  },
  {
   "cell_type": "code",
   "execution_count": null,
   "id": "bbe8ebfd",
   "metadata": {},
   "outputs": [],
   "source": []
  },
  {
   "cell_type": "code",
   "execution_count": null,
   "id": "224e679e",
   "metadata": {},
   "outputs": [],
   "source": []
  },
  {
   "cell_type": "code",
   "execution_count": null,
   "id": "73decacc",
   "metadata": {},
   "outputs": [],
   "source": []
  },
  {
   "cell_type": "code",
   "execution_count": null,
   "id": "b11c8141",
   "metadata": {},
   "outputs": [],
   "source": []
  },
  {
   "cell_type": "code",
   "execution_count": null,
   "id": "11c966bd",
   "metadata": {},
   "outputs": [],
   "source": []
  },
  {
   "cell_type": "code",
   "execution_count": null,
   "id": "b65f0cd3",
   "metadata": {},
   "outputs": [],
   "source": []
  }
 ],
 "metadata": {
  "kernelspec": {
   "display_name": "Python 3",
   "language": "python",
   "name": "python3"
  },
  "language_info": {
   "codemirror_mode": {
    "name": "ipython",
    "version": 3
   },
   "file_extension": ".py",
   "mimetype": "text/x-python",
   "name": "python",
   "nbconvert_exporter": "python",
   "pygments_lexer": "ipython3",
   "version": "3.9.1"
  }
 },
 "nbformat": 4,
 "nbformat_minor": 5
}
