{
 "cells": [
  {
   "cell_type": "code",
   "execution_count": 1,
   "id": "8d6d78a4",
   "metadata": {},
   "outputs": [],
   "source": [
    "# 이 코드를 먼저 실행하세요\n",
    "\n",
    "import numpy as np\n",
    "import pandas as pd\n",
    "import statsmodels.api as sm\n",
    "from sklearn.datasets import load_diabetes\n",
    "\n",
    "diabetes = load_diabetes()\n",
    "\n",
    "dfX = pd.DataFrame(diabetes.data, columns=diabetes.feature_names)\n",
    "dfy = pd.DataFrame(diabetes.target, columns=[\"target\"])\n",
    "df = pd.concat([dfX, dfy], axis=1)\n",
    "\n",
    "\n",
    "model1 = sm.OLS.from_formula(\"target ~ \" + \"+\".join(diabetes.feature_names), data=df)\n",
    "result1 = model1.fit()"
   ]
  },
  {
   "cell_type": "code",
   "execution_count": 15,
   "id": "5d45c5c4",
   "metadata": {},
   "outputs": [
    {
     "name": "stdout",
     "output_type": "stream",
     "text": [
      "학습 R2 = 0.51774943, 검증 R2 = 0.51639644\n",
      "학습 R2 = 0.51774943, 검증 R2 = 0.48897021\n",
      "학습 R2 = 0.51774943, 검증 R2 = 0.47342625\n",
      "학습 R2 = 0.51774943, 검증 R2 = 0.53723292\n",
      "학습 R2 = 0.51774943, 검증 R2 = 0.40571437\n",
      "학습 R2 = 0.51774943, 검증 R2 = 0.43497213\n",
      "학습 R2 = 0.51774943, 검증 R2 = 0.39833130\n",
      "학습 R2 = 0.51774943, 검증 R2 = 0.72259824\n",
      "학습 R2 = 0.51774943, 검증 R2 = 0.62612480\n",
      "학습 R2 = 0.51774943, 검증 R2 = 0.50347496\n"
     ]
    }
   ],
   "source": [
    "from sklearn.model_selection import KFold\n",
    "\n",
    "scores = np.zeros(10)\n",
    "cv = KFold(10, shuffle=True, random_state = 1234)\n",
    "\n",
    "for i, (idx_train, idx_test) in enumerate(cv.split(df)):\n",
    "    df_train = df.iloc[idx_train]\n",
    "    df_test = df.iloc[idx_test]\n",
    "    \n",
    "    model1 = sm.OLS.from_formula(\"target ~ \" + \"+\".join(diabetes.feature_names), data=df)\n",
    "    result1 = model1.fit()\n",
    "\n",
    "    pred = result1.predict(df_test)\n",
    "    rss = ((df_test.target - pred) ** 2).sum()\n",
    "    tss = ((df_test.target - df_test.target.mean())** 2).sum()\n",
    "    rsquared = 1 - rss / tss\n",
    "    \n",
    "    scores[i] = rsquared\n",
    "    print(\"학습 R2 = {:.8f}, 검증 R2 = {:.8f}\".format(result1.rsquared, rsquared))"
   ]
  },
  {
   "cell_type": "code",
   "execution_count": null,
   "id": "17c5bb88",
   "metadata": {},
   "outputs": [],
   "source": []
  },
  {
   "cell_type": "code",
   "execution_count": null,
   "id": "ce12d0a0",
   "metadata": {},
   "outputs": [],
   "source": []
  },
  {
   "cell_type": "code",
   "execution_count": null,
   "id": "8a7499ec",
   "metadata": {},
   "outputs": [],
   "source": []
  },
  {
   "cell_type": "code",
   "execution_count": null,
   "id": "43eb928f",
   "metadata": {},
   "outputs": [],
   "source": []
  }
 ],
 "metadata": {
  "kernelspec": {
   "display_name": "Python 3",
   "language": "python",
   "name": "python3"
  },
  "language_info": {
   "codemirror_mode": {
    "name": "ipython",
    "version": 3
   },
   "file_extension": ".py",
   "mimetype": "text/x-python",
   "name": "python",
   "nbconvert_exporter": "python",
   "pygments_lexer": "ipython3",
   "version": "3.9.1"
  }
 },
 "nbformat": 4,
 "nbformat_minor": 5
}
