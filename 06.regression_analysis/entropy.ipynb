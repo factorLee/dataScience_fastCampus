{
 "cells": [
  {
   "cell_type": "code",
   "execution_count": 7,
   "id": "9b6d9fc4",
   "metadata": {},
   "outputs": [],
   "source": [
    "import scipy as sp\n",
    "from scipy import stats"
   ]
  },
  {
   "cell_type": "code",
   "execution_count": 3,
   "id": "c18cc15e",
   "metadata": {},
   "outputs": [
    {
     "data": {
      "text/plain": [
       "0.9182958340544894"
      ]
     },
     "execution_count": 3,
     "metadata": {},
     "output_type": "execute_result"
    }
   ],
   "source": [
    "p = [0.33, 0.66]\n",
    "sp.stats.entropy(p, base=2)"
   ]
  },
  {
   "cell_type": "code",
   "execution_count": 4,
   "id": "ec2afaf0",
   "metadata": {},
   "outputs": [
    {
     "data": {
      "text/plain": [
       "0.8112781244591328"
      ]
     },
     "execution_count": 4,
     "metadata": {},
     "output_type": "execute_result"
    }
   ],
   "source": [
    "p = [30/40, 10/40]\n",
    "sp.stats.entropy(p, base=2)"
   ]
  },
  {
   "cell_type": "code",
   "execution_count": 5,
   "id": "35b3fbbc",
   "metadata": {},
   "outputs": [
    {
     "data": {
      "text/plain": [
       "0.0"
      ]
     },
     "execution_count": 5,
     "metadata": {},
     "output_type": "execute_result"
    }
   ],
   "source": [
    "p = [20/20, 0]\n",
    "sp.stats.entropy(p, base=2)"
   ]
  },
  {
   "cell_type": "code",
   "execution_count": null,
   "id": "81ce9030",
   "metadata": {},
   "outputs": [],
   "source": []
  }
 ],
 "metadata": {
  "kernelspec": {
   "display_name": "Python 3",
   "language": "python",
   "name": "python3"
  },
  "language_info": {
   "codemirror_mode": {
    "name": "ipython",
    "version": 3
   },
   "file_extension": ".py",
   "mimetype": "text/x-python",
   "name": "python",
   "nbconvert_exporter": "python",
   "pygments_lexer": "ipython3",
   "version": "3.9.1"
  }
 },
 "nbformat": 4,
 "nbformat_minor": 5
}
